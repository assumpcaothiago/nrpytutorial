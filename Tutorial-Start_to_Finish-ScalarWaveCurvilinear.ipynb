{
 "cells": [
  {
   "cell_type": "markdown",
   "metadata": {},
   "source": [
    "<script async src=\"https://www.googletagmanager.com/gtag/js?id=UA-59152712-8\"></script>\n",
    "<script>\n",
    "  window.dataLayer = window.dataLayer || [];\n",
    "  function gtag(){dataLayer.push(arguments);}\n",
    "  gtag('js', new Date());\n",
    "\n",
    "  gtag('config', 'UA-59152712-8');\n",
    "</script>\n",
    "\n",
    "# Start-to-Finish Example: Numerical Solution of the Scalar Wave Equation, in Curvilinear Coordinates\n",
    "\n",
    "## Author: Zach Etienne\n",
    "### Formatting improvements courtesy Brandon Clark\n",
    "\n",
    "## This module solves the scalar wave equation in *spherical coordinates* (though other coordinates, including Cartesian, may be chosen), using the Runge-Kutta fourth-order scheme. It includes code generation for initial data and scalar wave RHSs, boundary condition drivers, and numerical error plotting. The notebook verifies the solution's convergence towards the exact solution, validating the curvilinear approach.\n",
    "\n",
    "**Notebook Status:** <font color =\"green\"><b> Validated </b></font>\n",
    "\n",
    "**Validation Notes:** This module has been validated to converge at the expected order to the exact solution (see [plot](#convergence) at bottom).\n",
    "\n",
    "### NRPy+ Source Code for this module: \n",
    "* [ScalarWave/ScalarWaveCurvilinear_RHSs.py](../edit/ScalarWave/ScalarWaveCurvilinear_RHSs.py) [\\[**tutorial**\\]](Tutorial-ScalarWaveCurvilinear.ipynb) Generates the right-hand side for the Scalar Wave Equation in curvilinear coordinates\n",
    "* [ScalarWave/InitialData.py](../edit/ScalarWave/InitialData.py) [\\[**tutorial**\\]](Tutorial-ScalarWave.ipynb) Generating C code for either plane wave or spherical Gaussian initial data for the scalar wave equation \n",
    "\n",
    "## Introduction:\n",
    "As outlined in the [previous NRPy+ tutorial notebook](Tutorial-ScalarWaveCurvilinear.ipynb), we first use NRPy+ to generate initial data for the scalar wave equation, and then we use it to generate the RHS expressions for [Method of Lines](https://reference.wolfram.com/language/tutorial/NDSolveMethodOfLines.html) time integration based on the [explicit Runge-Kutta fourth-order scheme](https://en.wikipedia.org/wiki/Runge%E2%80%93Kutta_methods) (RK4).\n",
    "\n",
    "The entire algorithm is outlined below, with NRPy+-based components highlighted in <font color='green'>green</font>.\n",
    "\n",
    "1. Allocate memory for gridfunctions, including temporary storage for the RK4 time integration.\n",
    "1. <font color='green'>Set gridfunction values to initial data.</font>\n",
    "1. Evolve the system forward in time using RK4 time integration. At each RK4 substep, do the following:\n",
    "    1. <font color='green'>Evaluate scalar wave RHS expressions.</font>\n",
    "    1. Apply boundary conditions.\n",
    "1. At the end of each iteration in time, output the relative error between numerical and exact solutions."
   ]
  },
  {
   "cell_type": "markdown",
   "metadata": {},
   "source": [
    "<a id='toc'></a>\n",
    "\n",
    "# Table of Contents\n",
    "$$\\label{toc}$$\n",
    "\n",
    "This notebook is organized as follows\n",
    "\n",
    "1. [Step 1](#writec): Generate C code to solve the scalar wave equation in curvilinear coordinates\n",
    "    1. [Step 1.a](#id_rhss): C code generation: Initial data and scalar wave right-hand-sides\n",
    "    1. [Step 1.b](#OuterBoundaryConditions): C code generation: Boundary condition driver\n",
    "    1. [Step 1.c](#cparams_rfm_and_domainsize): Generate Cparameters files; set reference metric parameters, including `domain_size`\n",
    "    1. [Step 1.d](#cfl): C code generation: Finding the minimum proper distance between grid points, needed for [CFL](https://en.wikipedia.org/w/index.php?title=Courant%E2%80%93Friedrichs%E2%80%93Lewy_condition&oldid=806430673)-limited timestep\n",
    "1. [Step 2](#mainc): The C code `main()` function for `ScalarWaveCurvilinear_Playground`\n",
    "1. [Step 3](#compileexec): Compile generated C codes & solve the scalar wave equation\n",
    "1. [Step 4](#convergence): Code validation: Plot the numerical error, and confirm that it converges to zero at expected rate with increasing numerical resolution (sampling)\n",
    "1. [Step 5](#latex_pdf_output): Output this notebook to $\\LaTeX$-formatted PDF file"
   ]
  },
  {
   "cell_type": "markdown",
   "metadata": {},
   "source": [
    "<a id='writec'></a>\n",
    "\n",
    "# Step 1: Using NRPy+ to generate necessary C code to solve the scalar wave equation in curvilinear, singular coordinates \\[Back to [top](#toc)\\]\n",
    "$$\\label{writec}$$"
   ]
  },
  {
   "cell_type": "markdown",
   "metadata": {},
   "source": [
    "<a id='id_rhss'></a>\n",
    "\n",
    "## Step 1.a: C code generation: Initial data and scalar wave RHSs \\[Back to [top](#toc)\\]\n",
    "$$\\label{id_rhss}$$\n",
    "\n",
    "\n",
    "We choose simple plane wave initial data, which is documented in the [Cartesian scalar wave module](Tutorial-ScalarWave.ipynb). Specifically, we implement a monochromatic (single-wavelength) wave traveling in the $\\hat{k}$ direction with speed $c$\n",
    "$$u(\\vec{x},t) = f(\\hat{k}\\cdot\\vec{x} - c t),$$\n",
    "where $\\hat{k}$ is a unit vector.\n",
    "\n",
    "The scalar wave RHSs in curvilinear coordinates (documented [in the previous module](Tutorial-ScalarWaveCurvilinear.ipynb)) are simply the right-hand sides of the scalar wave equation written in curvilinear coordinates\n",
    "\\begin{align}\n",
    "\\partial_t u &= v \\\\\n",
    "\\partial_t v &= c^2 \\left(\\hat{g}^{ij} \\partial_{i} \\partial_{j} u - \\hat{\\Gamma}^i \\partial_i u\\right),\n",
    "\\end{align}\n",
    "where $\\hat{g}^{ij}$ is the inverse reference 3-metric (i.e., the metric corresponding to the underlying coordinate system we choose$-$spherical coordinates in our example below), and $\\hat{\\Gamma}^i$ is the contracted Christoffel symbol $\\hat{\\Gamma}^\\tau = \\hat{g}^{\\mu\\nu} \\hat{\\Gamma}^\\tau_{\\mu\\nu}$.\n",
    "\n",
    "Below we generate \n",
    "+ the initial data by calling `InitialData(Type=\"PlaneWave\")` inside the NRPy+ [ScalarWave/InitialData.py](../edit/ScalarWave/InitialData.py) module (documented in [this NRPy+ Jupyter notebook](Tutorial-ScalarWave.ipynb)), and \n",
    "+ the RHS expressions by calling `ScalarWaveCurvilinear_RHSs()` inside the NRPy+ [ScalarWave/ScalarWaveCurvilinear_RHSs.py](../edit/ScalarWave/ScalarWaveCurvilinear_RHSs.py) module (documented in [this NRPy+ Jupyter notebook](Tutorial-ScalarWaveCurvilinear.ipynb))."
   ]
  },
  {
   "cell_type": "code",
   "execution_count": 1,
   "metadata": {
    "execution": {
     "iopub.execute_input": "2021-09-28T19:19:15.367685Z",
     "iopub.status.busy": "2021-09-28T19:19:15.357463Z",
     "iopub.status.idle": "2021-09-28T19:19:16.359409Z",
     "shell.execute_reply": "2021-09-28T19:19:16.359861Z"
    }
   },
   "outputs": [],
   "source": [
    "# Step P1: Import needed NRPy+ core modules:\n",
    "from outputC import lhrh, add_to_Cfunction_dict  # NRPy+: Core C code output module\n",
    "import finite_difference as fin       # NRPy+: Finite difference C code generation module\n",
    "import NRPy_param_funcs as par        # NRPy+: Parameter interface\n",
    "import grid as gri                    # NRPy+: Functions having to do with numerical grids\n",
    "import reference_metric as rfm        # NRPy+: Reference metric support\n",
    "import cmdline_helper as cmd          # NRPy+: Multi-platform Python command-line interface\n",
    "import shutil, os, sys                # Standard Python modules for multiplatform OS-level functions\n",
    "\n",
    "# Step P2: Create C code output directory:\n",
    "Ccodesrootdir = os.path.join(\"ScalarWaveCurvilinear_Playground_Ccodes\")\n",
    "# First remove C code output directory if it exists\n",
    "# Courtesy https://stackoverflow.com/questions/303200/how-do-i-remove-delete-a-folder-that-is-not-empty\n",
    "shutil.rmtree(Ccodesrootdir, ignore_errors=True)\n",
    "# Then create a fresh directory\n",
    "cmd.mkdir(Ccodesrootdir)\n",
    "\n",
    "# Step P3: Create executable output directory:\n",
    "outdir = os.path.join(Ccodesrootdir, \"output\")\n",
    "cmd.mkdir(outdir)\n",
    "\n",
    "# Step P4: Enable/disable SIMD. If enabled, code should run ~2x faster on most CPUs.\n",
    "enable_SIMD = True\n",
    "\n",
    "# Step P5: Enable reference metric precomputation.\n",
    "enable_rfm_precompute = True\n",
    "if enable_rfm_precompute:\n",
    "    par.set_parval_from_str(\"reference_metric::rfm_precompute_to_Cfunctions_and_NRPy_basic_defines\", \"True\")\n",
    "else:\n",
    "    par.set_parval_from_str(\"reference_metric::rfm_precompute_to_Cfunctions_and_NRPy_basic_defines\", \"False\")\n",
    "\n",
    "if enable_SIMD and not enable_rfm_precompute:\n",
    "    print(\"ERROR: SIMD does not currently handle transcendental functions,\\n\")\n",
    "    print(\"       like those found in rfmstruct (rfm_precompute).\\n\")\n",
    "    print(\"       Therefore, enable_SIMD==True and enable_rfm_precompute==False\\n\")\n",
    "    print(\"       is not supported.\\n\")\n",
    "    sys.exit(1)\n",
    "\n",
    "# Step P6: Enable \"FD functions\". In other words, all finite-difference stencils\n",
    "#         will be output as inlined static functions. This is essential for\n",
    "#         compiling highly complex FD kernels with using certain versions of GCC;\n",
    "#         GCC 10-ish will choke on BSSN FD kernels at high FD order, sometimes\n",
    "#         taking *hours* to compile. Unaffected GCC versions compile these kernels\n",
    "#         in seconds. FD functions do not slow the code performance, but do add\n",
    "#         another header file to the C source tree.\n",
    "# With gcc 7.5.0, enable_FD_functions=True decreases performance by 10%\n",
    "enable_FD_functions = False\n",
    "\n",
    "# Step 1: Set some core parameters, including CoordSystem, boundary condition,\n",
    "#                                             MoL, timestepping algorithm, FD order,\n",
    "#                                             floating point precision, and CFL factor:\n",
    "\n",
    "# Step 1.a: Set the coordinate system for the numerical grid\n",
    "# Choices are: Spherical, SinhSpherical, SinhSphericalv2, Cylindrical, SinhCylindrical,\n",
    "#              SymTP, SinhSymTP\n",
    "CoordSystem     = \"SinhSpherical\"\n",
    "par.set_parval_from_str(\"reference_metric::CoordSystem\", CoordSystem)\n",
    "rfm.reference_metric()\n",
    "\n",
    "# Step 1.c: Set defaults for Coordinate system parameters.\n",
    "#           These are perhaps the most commonly adjusted parameters,\n",
    "#           so we enable modifications at this high level.\n",
    "\n",
    "# domain_size sets the default value for:\n",
    "#   * Spherical's params.RMAX\n",
    "#   * SinhSpherical*'s params.AMAX\n",
    "#   * Cartesians*'s -params.{x,y,z}min & .{x,y,z}max\n",
    "#   * Cylindrical's -params.ZMIN & .{Z,RHO}MAX\n",
    "#   * SinhCylindrical's params.AMPL{RHO,Z}\n",
    "#   * *SymTP's params.AMAX\n",
    "domain_size     = 10.0 # Needed for all coordinate systems.\n",
    "\n",
    "# sinh_width sets the default value for:\n",
    "#   * SinhSpherical's params.SINHW\n",
    "#   * SinhCylindrical's params.SINHW{RHO,Z}\n",
    "#   * SinhSymTP's params.SINHWAA\n",
    "sinh_width      = 0.4 # If Sinh* coordinates chosen\n",
    "\n",
    "# sinhv2_const_dr sets the default value for:\n",
    "#   * SinhSphericalv2's params.const_dr\n",
    "#   * SinhCylindricalv2's params.const_d{rho,z}\n",
    "sinhv2_const_dr = 0.05# If Sinh*v2 coordinates chosen\n",
    "\n",
    "# SymTP_bScale sets the default value for:\n",
    "#   * SinhSymTP's params.bScale\n",
    "SymTP_bScale    = 1.0 # If SymTP chosen\n",
    "\n",
    "# Step 1.d: Set the order of spatial and temporal derivatives;\n",
    "#           the core data type, and the CFL factor.\n",
    "# RK_method choices include: Euler, \"RK2 Heun\", \"RK2 MP\", \"RK2 Ralston\", RK3, \"RK3 Heun\", \"RK3 Ralston\",\n",
    "#              SSPRK3, RK4, DP5, DP5alt, CK5, DP6, L6, DP8\n",
    "RK_method = \"RK4\"\n",
    "FD_order  = 4        # Finite difference order: even numbers only, starting with 2. 12 is generally unstable\n",
    "REAL      = \"double\" # Best to use double here.\n",
    "CFL_FACTOR= 1.0\n",
    "outer_bc_type = \"RADIATION_OUTER_BCS\"  # can be EXTRAPOLATION_OUTER_BCS or RADIATION_OUTER_BCS\n",
    "radiation_BC_FD_order = 2"
   ]
  },
  {
   "cell_type": "code",
   "execution_count": 2,
   "metadata": {
    "execution": {
     "iopub.execute_input": "2021-09-28T19:19:16.364858Z",
     "iopub.status.busy": "2021-09-28T19:19:16.364326Z",
     "iopub.status.idle": "2021-09-28T19:19:17.352957Z",
     "shell.execute_reply": "2021-09-28T19:19:17.352480Z"
    }
   },
   "outputs": [],
   "source": [
    "# Step 2: Import the ScalarWave.InitialData module.\n",
    "#         This command only declares ScalarWave initial data\n",
    "#         parameters and the InitialData() function.\n",
    "import ScalarWave.InitialData as swid\n",
    "\n",
    "# Step 3: Import ScalarWave_RHSs module.\n",
    "#         This command only declares ScalarWave RHS parameters\n",
    "#         and the ScalarWave_RHSs function (called later)\n",
    "import ScalarWave.ScalarWaveCurvilinear_RHSs as swrhs\n",
    "\n",
    "# Step 4: Call the InitialData() function to set up initial data.\n",
    "#         Options include:\n",
    "#    \"PlaneWave\": monochromatic (single frequency/wavelength) plane wave\n",
    "#    \"SphericalGaussian\": spherically symmetric Gaussian, with default stdev=3\n",
    "swid.InitialData(CoordSystem=CoordSystem, WaveType=\"SphericalGaussian\")\n",
    "\n",
    "# Step 5: Set the finite differencing order to FD_order (set above).\n",
    "par.set_parval_from_str(\"finite_difference::FD_CENTDERIVS_ORDER\", FD_order)\n",
    "\n",
    "# Step 6: Generate SymPy symbolic expressions for\n",
    "#         uu_rhs and vv_rhs; the ScalarWave RHSs.\n",
    "#         This function also declares the uu and vv\n",
    "#         gridfunctions, which need to be declared\n",
    "#         to output even the initial data to C file.\n",
    "# First get into the enable_rfm_precompute environment, if enable_rfm_precompute==True\n",
    "if enable_rfm_precompute:\n",
    "    cmd.mkdir(os.path.join(Ccodesrootdir, \"rfm_files/\"))\n",
    "    par.set_parval_from_str(\"reference_metric::enable_rfm_precompute\", \"True\")\n",
    "    par.set_parval_from_str(\"reference_metric::rfm_precompute_Ccode_outdir\", os.path.join(Ccodesrootdir, \"rfm_files/\"))\n",
    "\n",
    "swrhs.ScalarWaveCurvilinear_RHSs()\n",
    "# Step 6.a: Now that we are finished with all the rfm hatted\n",
    "#           quantities, let's restore them to their closed-\n",
    "#           form expressions.\n",
    "if enable_rfm_precompute:\n",
    "    par.set_parval_from_str(\"reference_metric::enable_rfm_precompute\", \"False\") # Reset to False to disable rfm_precompute.\n",
    "rfm.ref_metric__hatted_quantities()\n",
    "\n",
    "# Step 7: Copy SIMD/SIMD_intrinsics.h to $Ccodesrootdir/SIMD/SIMD_intrinsics.h\n",
    "if enable_SIMD:\n",
    "    cmd.mkdir(os.path.join(Ccodesrootdir,\"SIMD\"))\n",
    "    shutil.copy(os.path.join(\"SIMD/\")+\"SIMD_intrinsics.h\",os.path.join(Ccodesrootdir,\"SIMD/\"))\n",
    "\n",
    "# Step 8: Set enable \"FD functions\" parameter. See above for details.\n",
    "par.set_parval_from_str(\"finite_difference::enable_FD_functions\", enable_FD_functions)\n",
    "\n",
    "# Step 9: If enable_SIMD, then copy SIMD/SIMD_intrinsics.h to $Ccodesrootdir/SIMD/SIMD_intrinsics.h\n",
    "if enable_SIMD:\n",
    "    shutil.copy(os.path.join(\"SIMD\", \"SIMD_intrinsics.h\"), os.path.join(Ccodesrootdir, \"SIMD\"))"
   ]
  },
  {
   "cell_type": "markdown",
   "metadata": {},
   "source": [
    "<a id='mol'></a>\n",
    "\n",
    "## Step 1.b: Generate Method of Lines timestepping code \\[Back to [top](#toc)\\]\n",
    "$$\\label{mol}$$\n",
    "\n",
    "The Method of Lines algorithm is described in detail in the [**NRPy+ tutorial notebook on Method of Lines algorithm**](Tutorial-Method_of_Lines-C_Code_Generation.ipynb)."
   ]
  },
  {
   "cell_type": "code",
   "execution_count": 3,
   "metadata": {
    "execution": {
     "iopub.execute_input": "2021-09-28T19:19:17.357055Z",
     "iopub.status.busy": "2021-09-28T19:19:17.356544Z",
     "iopub.status.idle": "2021-09-28T19:19:17.365910Z",
     "shell.execute_reply": "2021-09-28T19:19:17.365519Z"
    }
   },
   "outputs": [],
   "source": [
    "# Step 10: Generate Runge-Kutta-based (RK-based) timestepping code.\n",
    "#       As described above the Table of Contents, this is a 2-step process:\n",
    "#       1.b.A: Evaluate RHSs (RHS_string)\n",
    "#       1.b.B: Apply boundary conditions (post_RHS_string, pt 1)\n",
    "import MoLtimestepping.MoL as MoL\n",
    "# from MoLtimestepping.RK_Butcher_Table_Dictionary import Butcher_dict\n",
    "# RK_order  = Butcher_dict[RK_method][1]\n",
    "RHS_string = \"rhs_eval(params, rfmstruct, RK_INPUT_GFS, RK_OUTPUT_GFS);\"\n",
    "if not enable_rfm_precompute:\n",
    "    RHS_string = RHS_string.replace(\"rfmstruct\", \"xx\")\n",
    "RHS_string += \"\"\"\n",
    "if(params->outer_bc_type == RADIATION_OUTER_BCS)\n",
    "  apply_bcs_outerradiation_and_inner(params, bcstruct, griddata->xx,\n",
    "                                     gridfunctions_wavespeed,gridfunctions_f_infinity,\n",
    "                                     RK_INPUT_GFS, RK_OUTPUT_GFS);\"\"\"\n",
    "\n",
    "# Extrapolation BCs are applied to the evolved gridfunctions themselves after the MoL update\n",
    "post_RHS_string = \"\"\"if(params->outer_bc_type == EXTRAPOLATION_OUTER_BCS)\n",
    "  apply_bcs_outerextrap_and_inner(params, bcstruct, RK_OUTPUT_GFS);\"\"\"\n",
    "\n",
    "MoL.register_C_functions_and_NRPy_basic_defines(RK_method,\n",
    "        RHS_string=RHS_string, post_RHS_string=post_RHS_string,\n",
    "        enable_rfm=enable_rfm_precompute, enable_curviBCs=True, enable_SIMD=False)"
   ]
  },
  {
   "cell_type": "code",
   "execution_count": 4,
   "metadata": {
    "execution": {
     "iopub.execute_input": "2021-09-28T19:19:17.370246Z",
     "iopub.status.busy": "2021-09-28T19:19:17.369750Z",
     "iopub.status.idle": "2021-09-28T19:19:17.371819Z",
     "shell.execute_reply": "2021-09-28T19:19:17.371390Z"
    }
   },
   "outputs": [],
   "source": [
    "def add_to_Cfunction_dict_exact_solution_single_point():\n",
    "    includes = [\"NRPy_basic_defines.h\", \"NRPy_function_prototypes.h\"]\n",
    "    desc = \"Exact solution at a single point. params.time==0 corresponds to the initial data.\"\n",
    "    c_type = \"void\"\n",
    "    name = \"exact_solution_single_point\"\n",
    "    params = \"\"\"const paramstruct *restrict params,\n",
    "                const REAL xx0, const REAL xx1, const REAL xx2,\n",
    "                REAL *uu_exact, REAL *vv_exact\"\"\"\n",
    "    body = fin.FD_outputC(\"returnstring\",[lhrh(lhs=\"*uu_exact\",rhs=swid.uu_ID),\n",
    "                                          lhrh(lhs=\"*vv_exact\",rhs=swid.vv_ID)],\n",
    "                          params=\"includebraces=False,preindent=1,outCverbose=False\")\n",
    "    add_to_Cfunction_dict(\n",
    "        includes=includes,\n",
    "        desc=desc,\n",
    "        c_type=c_type, name=name, params=params,\n",
    "        body=body,\n",
    "        rel_path_to_Cparams=os.path.join(\".\"))\n",
    "# add_to_Cfunction_dict_exact_solution_single_point()\n",
    "# from outputC import outC_function_dict\n",
    "# print(outC_function_dict[\"exact_solution_single_point\"])\n",
    "# sys.exit(1)"
   ]
  },
  {
   "cell_type": "code",
   "execution_count": 5,
   "metadata": {
    "execution": {
     "iopub.execute_input": "2021-09-28T19:19:17.374939Z",
     "iopub.status.busy": "2021-09-28T19:19:17.374447Z",
     "iopub.status.idle": "2021-09-28T19:19:17.376149Z",
     "shell.execute_reply": "2021-09-28T19:19:17.375812Z"
    }
   },
   "outputs": [],
   "source": [
    "def add_to_Cfunction_dict_exact_solution_all_points():\n",
    "    includes = [\"NRPy_basic_defines.h\", \"NRPy_function_prototypes.h\"]\n",
    "    desc = \"Exact solution at all points. params.time==0 corresponds to the initial data.\"\n",
    "    c_type = \"void\"\n",
    "    name = \"exact_solution_all_points\"\n",
    "    params = \"const paramstruct *restrict params,REAL *restrict xx[3], REAL *restrict in_gfs\"\n",
    "    body = \"\"\"exact_solution_single_point(params, xx0, xx1, xx2,\n",
    "           &in_gfs[IDX4S(UUGF,i0,i1,i2)], &in_gfs[IDX4S(VVGF,i0,i1,i2)]);\"\"\"\n",
    "    add_to_Cfunction_dict(\n",
    "        includes=includes,\n",
    "        desc=desc,\n",
    "        c_type=c_type, name=name, params=params,\n",
    "        body=body,\n",
    "        rel_path_to_Cparams=os.path.join(\".\"), loopopts = \"AllPoints,Read_xxs\")"
   ]
  },
  {
   "cell_type": "code",
   "execution_count": 6,
   "metadata": {
    "execution": {
     "iopub.execute_input": "2021-09-28T19:19:17.381402Z",
     "iopub.status.busy": "2021-09-28T19:19:17.381013Z",
     "iopub.status.idle": "2021-09-28T19:19:17.382918Z",
     "shell.execute_reply": "2021-09-28T19:19:17.382577Z"
    }
   },
   "outputs": [],
   "source": [
    "def add_to_Cfunction_dict_rhs_eval():\n",
    "    desc=\"Evaluate the scalar wave RHSs\"\n",
    "    includes = [\"NRPy_basic_defines.h\", \"NRPy_function_prototypes.h\"]\n",
    "    if enable_FD_functions:\n",
    "        includes += [\"finite_difference_functions.h\"]\n",
    "    if enable_SIMD:\n",
    "        includes += [\"SIMD/SIMD_intrinsics.h\"]\n",
    "    c_type = \"void\"\n",
    "    name = \"rhs_eval\"\n",
    "    params   =\"const paramstruct *restrict params, \"\n",
    "    if enable_rfm_precompute:\n",
    "        params += \"const rfm_struct *restrict rfmstruct, \"\n",
    "    else:\n",
    "        params += \"REAL *xx[3], \"\n",
    "    params += \"const REAL *restrict in_gfs, REAL *restrict rhs_gfs\"\n",
    "    body = fin.FD_outputC(\"returnstring\",[lhrh(lhs=gri.gfaccess(\"rhs_gfs\",\"uu\"),rhs=swrhs.uu_rhs),\n",
    "                                          lhrh(lhs=gri.gfaccess(\"rhs_gfs\",\"vv\"),rhs=swrhs.vv_rhs)],\n",
    "                          params=\"enable_SIMD=\"+str(enable_SIMD))\n",
    "    loopopts = \"InteriorPoints\"\n",
    "    if enable_SIMD:\n",
    "        loopopts += \",enable_SIMD\"\n",
    "    if enable_rfm_precompute:\n",
    "        loopopts += \",enable_rfm_precompute\"\n",
    "    else:\n",
    "        loopopts += \",Read_xxs\"\n",
    "    add_to_Cfunction_dict(\n",
    "        includes=includes,\n",
    "        desc=desc,\n",
    "        c_type=c_type, name=name, params=params,\n",
    "        body=body,\n",
    "        rel_path_to_Cparams=os.path.join(\".\"), loopopts = loopopts)"
   ]
  },
  {
   "cell_type": "markdown",
   "metadata": {},
   "source": [
    "<a id='OuterBoundaryConditions'></a>\n",
    "\n",
    "## Step 1.b: Output needed C code for boundary condition driver \\[Back to [top](#toc)\\]\n",
    "$$\\label{OuterBoundaryConditions}$$"
   ]
  },
  {
   "cell_type": "code",
   "execution_count": 7,
   "metadata": {
    "execution": {
     "iopub.execute_input": "2021-09-28T19:19:17.385704Z",
     "iopub.status.busy": "2021-09-28T19:19:17.385312Z",
     "iopub.status.idle": "2021-09-28T19:19:18.441868Z",
     "shell.execute_reply": "2021-09-28T19:19:18.442305Z"
    },
    "scrolled": true
   },
   "outputs": [
    {
     "name": "stdout",
     "output_type": "stream",
     "text": [
      "Evolved gridfunction \"uu\" has parity type 0.\n",
      "Evolved gridfunction \"vv\" has parity type 0.\n"
     ]
    }
   ],
   "source": [
    "import CurviBoundaryConditions.CurviBoundaryConditions as CBC\n",
    "CBC.CurviBoundaryConditions_register_NRPy_basic_defines()\n",
    "CBC.CurviBoundaryConditions_register_C_functions(radiation_BC_FD_order=radiation_BC_FD_order)"
   ]
  },
  {
   "cell_type": "markdown",
   "metadata": {},
   "source": [
    "<a id='cparams_rfm_and_domainsize'></a>\n",
    "\n",
    "## Step 1.c: Output C codes needed for declaring and setting Cparameters; also set `free_parameters.h` \\[Back to [top](#toc)\\]\n",
    "$$\\label{cparams_rfm_and_domainsize}$$\n",
    "\n",
    "Here we output `free_parameters.h`, which sets initial data parameters, as well as grid domain & reference metric parameters, applying `domain_size` and `sinh_width`/`SymTP_bScale` (if applicable) as set above"
   ]
  },
  {
   "cell_type": "code",
   "execution_count": 8,
   "metadata": {
    "execution": {
     "iopub.execute_input": "2021-09-28T19:19:18.445773Z",
     "iopub.status.busy": "2021-09-28T19:19:18.445259Z",
     "iopub.status.idle": "2021-09-28T19:19:18.447375Z",
     "shell.execute_reply": "2021-09-28T19:19:18.446930Z"
    }
   },
   "outputs": [],
   "source": [
    "# Step 1.c.i: Set free_parameters.h\n",
    "outstr = r\"\"\"\n",
    "// Free parameters related to physical system:\n",
    "params.time = 0.0; // Initial simulation time corresponds to exact solution at time=0.\n",
    "params.wavespeed = 1.0;\n",
    "\n",
    "// Free parameters related to numerical timestep:\n",
    "REAL CFL_FACTOR = \"\"\"+str(CFL_FACTOR)+\";\\n\"\n",
    "\n",
    "# Append to $Ccodesrootdir/free_parameters.h reference metric parameters based on generic\n",
    "#    domain_size,sinh_width,sinhv2_const_dr,SymTP_bScale,\n",
    "#    parameters set above.\n",
    "outstr += rfm.out_default_free_parameters_for_rfm(\"returnstring\",\n",
    "                                                  domain_size,sinh_width,sinhv2_const_dr,SymTP_bScale)\n",
    "with open(os.path.join(Ccodesrootdir,\"free_parameters.h\"),\"w\") as file:\n",
    "    file.write(outstr.replace(\"params.\", \"griddata.params.\"))"
   ]
  },
  {
   "cell_type": "markdown",
   "metadata": {},
   "source": [
    "<a id='cfl'></a>\n",
    "\n",
    "## Step 1.d: Output needed C code for finding the minimum proper distance between grid points, needed for [CFL](https://en.wikipedia.org/w/index.php?title=Courant%E2%80%93Friedrichs%E2%80%93Lewy_condition&oldid=806430673)-limited timestep \\[Back to [top](#toc)\\]\n",
    "$$\\label{cfl}$$\n",
    "\n",
    "In order for our explicit-timestepping numerical solution to the scalar wave equation to be stable, it must satisfy the [CFL](https://en.wikipedia.org/w/index.php?title=Courant%E2%80%93Friedrichs%E2%80%93Lewy_condition&oldid=806430673) condition:\n",
    "$$\n",
    "\\Delta t \\le \\frac{\\min(ds_i)}{c},\n",
    "$$\n",
    "where $c$ is the wavespeed, and\n",
    "$$ds_i = h_i \\Delta x^i$$ \n",
    "is the proper distance between neighboring gridpoints in the $i$th direction (in 3D, there are 3 directions), $h_i$ is the $i$th reference metric scale factor, and $\\Delta x^i$ is the uniform grid spacing in the $i$th direction:"
   ]
  },
  {
   "cell_type": "code",
   "execution_count": 9,
   "metadata": {
    "execution": {
     "iopub.execute_input": "2021-09-28T19:19:18.481660Z",
     "iopub.status.busy": "2021-09-28T19:19:18.468287Z",
     "iopub.status.idle": "2021-09-28T19:19:18.483454Z",
     "shell.execute_reply": "2021-09-28T19:19:18.482960Z"
    }
   },
   "outputs": [],
   "source": [
    "# Generate & register C function set_Nxx_dxx_invdx_params__and__xx()\n",
    "# Generate & register C function xx_to_Cart() for\n",
    "#               (the mapping from xx->Cartesian) for the chosen\n",
    "#               CoordSystem:\n",
    "# Generate & register the find_timestep() function\n",
    "rfm.register_C_functions(enable_rfm_precompute=enable_rfm_precompute)\n",
    "rfm.register_NRPy_basic_defines(enable_rfm_precompute=enable_rfm_precompute)"
   ]
  },
  {
   "cell_type": "markdown",
   "metadata": {},
   "source": [
    "<a id='mainc'></a>\n",
    "\n",
    "# Step 2: The C code `main()` function for `ScalarWaveCurvilinear_Playground` \\[Back to [top](#toc)\\]\n",
    "$$\\label{mainc}$$\n",
    "\n",
    "Just as in [the start-to-finish, solving the scalar wave equation in Cartesian coordinates module](Tutorial-Start_to_Finish-ScalarWave.ipynb), we will implement the scalar wave equation via the Method of Lines. As discussed above, the critical differences between this code and the Cartesian version are as follows:\n",
    "1. The CFL-constrained timestep depends on the proper distance between neighboring gridpoints\n",
    "1. The boundary conditions must account for the fact that ghost zone points lying in the domain exterior can map either to the interior of the domain or lie on the outer boundary. In the former case, we simply copy the data from the interior. In the latter case, we apply the usual outer boundary conditions.\n",
    "1. The numerical grids must be staggered to avoid direct evaluation of the equations on coordinate singularities."
   ]
  },
  {
   "cell_type": "code",
   "execution_count": 10,
   "metadata": {
    "execution": {
     "iopub.execute_input": "2021-09-28T19:19:18.489438Z",
     "iopub.status.busy": "2021-09-28T19:19:18.488908Z",
     "iopub.status.idle": "2021-09-28T19:19:18.490738Z",
     "shell.execute_reply": "2021-09-28T19:19:18.490254Z"
    }
   },
   "outputs": [],
   "source": [
    "def add_to_Cfunction_dict_main__ScalarWaveCurvilinear_Playground():\n",
    "    includes = [\"NRPy_basic_defines.h\", \"NRPy_function_prototypes.h\"]\n",
    "    desc = \"\"\"// main() function:\n",
    "// Step 0: Read command-line input, set up grid structure, allocate memory for gridfunctions, set up coordinates\n",
    "// Step 1: Write test data to gridfunctions\n",
    "// Step 2: Overwrite all data in ghost zones with NaNs\n",
    "// Step 3: Apply curvilinear boundary conditions\n",
    "// Step 4: Print gridfunction data after curvilinear boundary conditions have been applied\n",
    "// Step 5: Free all allocated memory\n",
    "\"\"\"\n",
    "    c_type = \"int\"\n",
    "    name = \"main\"\n",
    "    params = \"int argc, const char *argv[]\"\n",
    "    body = r\"\"\"  griddata_struct griddata;\n",
    "  set_Cparameters_to_default(&griddata.params);\n",
    "  griddata.params.outer_bc_type = \"\"\"+outer_bc_type+r\"\"\";\n",
    "\n",
    "  // Step 0a: Read command-line input, error out if nonconformant\n",
    "  if(argc != 4 || atoi(argv[1]) < NGHOSTS || atoi(argv[2]) < NGHOSTS || atoi(argv[3]) < NGHOSTS) {\n",
    "    printf(\"Error: Expected one command-line argument: ./ScalarWaveCurvilinear_Playground Nx0 Nx1 Nx2,\\n\");\n",
    "    printf(\"where Nx[0,1,2] is the number of grid points in the 0, 1, and 2 directions.\\n\");\n",
    "    printf(\"Nx[] MUST BE larger than NGHOSTS (= %d)\\n\",NGHOSTS);\n",
    "    exit(1);\n",
    "  }\n",
    "  // Step 0b: Set up numerical grid structure, first in space...\n",
    "  const int Nxx[3] = { atoi(argv[1]), atoi(argv[2]), atoi(argv[3]) };\n",
    "  if(Nxx[0]%2 != 0 || Nxx[1]%2 != 0 || Nxx[2]%2 != 0) {\n",
    "    printf(\"Error: Cannot guarantee a proper cell-centered grid if number of grid cells not set to even number.\\n\");\n",
    "    printf(\"       For example, in case of angular directions, proper symmetry zones will not exist.\\n\");\n",
    "    exit(1);\n",
    "  }\n",
    "\n",
    "  // Step 0c: Set free parameters, overwriting Cparameters defaults\n",
    "  //          by hand or with command-line input, as desired.\n",
    "#include \"free_parameters.h\"\n",
    "\n",
    "  // Step 0d: Uniform coordinate grids are stored to *xx[3]\n",
    "  // Step 0d.i: Set bcstruct\n",
    "  {\n",
    "    int EigenCoord;\n",
    "    EigenCoord = 1;\n",
    "    // Step 0d.ii: Call set_Nxx_dxx_invdx_params__and__xx(), which sets\n",
    "    //             params Nxx,Nxx_plus_2NGHOSTS,dxx,invdx, and xx[] for the\n",
    "    //             chosen Eigen-CoordSystem.\n",
    "    set_Nxx_dxx_invdx_params__and__xx(EigenCoord, Nxx, &griddata.params, griddata.xx);\n",
    "    // Step 0e: Find ghostzone mappings; set up bcstruct\n",
    "    bcstruct_set_up(&griddata.params, griddata.xx, &griddata.bcstruct);\n",
    "    // Step 0e.i: Free allocated space for xx[][] array\n",
    "    for(int i=0;i<3;i++) free(griddata.xx[i]);\n",
    "\n",
    "    // Step 0f: Call set_Nxx_dxx_invdx_params__and__xx(), which sets\n",
    "    //          params Nxx,Nxx_plus_2NGHOSTS,dxx,invdx, and xx[] for the\n",
    "    //          chosen (non-Eigen) CoordSystem.\n",
    "    EigenCoord = 0;\n",
    "    set_Nxx_dxx_invdx_params__and__xx(EigenCoord, Nxx, &griddata.params, griddata.xx);\n",
    "  }\n",
    "\n",
    "  // Step 0g: Time coordinate parameters\n",
    "  griddata.params.t_final =  0.7*domain_size; /* Final time is set so that at t=t_final,\n",
    "                                               * data at the origin have not been corrupted\n",
    "                                               * by the approximate outer boundary condition */\n",
    "\n",
    "  // Step 0h: Set timestep based on smallest proper distance between gridpoints and CFL factor\n",
    "  griddata.params.dt = find_timestep(&griddata.params, griddata.xx, CFL_FACTOR);\n",
    "  // Ntot = N_outputs * output_every_N -> output_every_N = Ntot/N_outputs; set N_outputs=800\n",
    "  int output_every_N = (int)((griddata.params.t_final/griddata.params.dt + 0.5) / 800.0);\n",
    "  if(output_every_N == 0) output_every_N = 1;\n",
    "\n",
    "  // Step 0i: Error out if the number of auxiliary gridfunctions outnumber evolved gridfunctions.\n",
    "  //              This is a limitation of the RK method. You are always welcome to declare & allocate\n",
    "  //              additional gridfunctions by hand.\n",
    "  if(NUM_AUX_GFS > NUM_EVOL_GFS) {\n",
    "    printf(\"Error: NUM_AUX_GFS > NUM_EVOL_GFS. Either reduce the number of auxiliary gridfunctions,\\n\");\n",
    "    printf(\"       or allocate (malloc) by hand storage for *diagnostic_output_gfs. \\n\");\n",
    "    exit(1);\n",
    "  }\n",
    "\n",
    "  // Step 0j: Declare struct for gridfunctions and allocate memory for y_n_gfs gridfunctions\n",
    "  MoL_malloc_y_n_gfs(&griddata.params, &griddata.gridfuncs);\n",
    "\"\"\"\n",
    "    if enable_rfm_precompute:\n",
    "        body += \"\"\"\n",
    "  // Step 0k: Set up precomputed reference metric arrays\n",
    "  // Step 0k.i: Allocate space for precomputed reference metric arrays.\n",
    "  rfm_struct rfmstruct;\n",
    "  rfm_precompute_rfmstruct_malloc(&griddata.params, &griddata.rfmstruct);\n",
    "\n",
    "  // Step 0k.ii: Define precomputed reference metric arrays.\n",
    "  rfm_precompute_rfmstruct_define(&griddata.params, griddata.xx, &griddata.rfmstruct);\\n\"\"\"\n",
    "    body += r\"\"\"\n",
    "  // Step 0.l: Set up initial data to be exact solution at time=0:\n",
    "  griddata.params.time = 0.0; griddata.params.n_0 = 0;\n",
    "  exact_solution_all_points(&griddata.params, griddata.xx, griddata.gridfuncs.y_n_gfs);\n",
    "\n",
    "  // Step 0.m: Allocate memory for non y_n_gfs. We do this here to free up\n",
    "  //         memory for setting up initial data (for cases in which initial\n",
    "  //         data setup is memory intensive.)\n",
    "  MoL_malloc_non_y_n_gfs(&griddata.params, &griddata.gridfuncs);\n",
    "\n",
    "  while(griddata.params.time < griddata.params.t_final)\n",
    "    { // Main loop to progress forward in time.\n",
    "\n",
    "    // Step 1: Diagnostics/code validation: Compute log of L2 norm of difference\n",
    "    //         between numerical and exact solutions:\n",
    "    //   log_L2_Norm = log10( sqrt[Integral( [numerical - exact]^2 * dV)] ),\n",
    "    //         where integral is within 30% of the grid outer boundary (domain_size)\n",
    "    if(griddata.params.n%output_every_N == 0) {\n",
    "      REAL integral = 0.0;\n",
    "      REAL numpts   = 0.0;\n",
    "      const int Nxx_plus_2NGHOSTS0 = griddata.params.Nxx_plus_2NGHOSTS0;\n",
    "      const int Nxx_plus_2NGHOSTS1 = griddata.params.Nxx_plus_2NGHOSTS1;\n",
    "      const int Nxx_plus_2NGHOSTS2 = griddata.params.Nxx_plus_2NGHOSTS2;\n",
    "#pragma omp parallel for reduction(+:integral,numpts)\n",
    "      LOOP_REGION(NGHOSTS,Nxx_plus_2NGHOSTS0-NGHOSTS,\n",
    "                  NGHOSTS,Nxx_plus_2NGHOSTS1-NGHOSTS,\n",
    "                  NGHOSTS,Nxx_plus_2NGHOSTS2-NGHOSTS) {\n",
    "        REAL xCart[3]; xx_to_Cart(&griddata.params,griddata.xx,i0,i1,i2, xCart);\n",
    "        if(sqrt(xCart[0]*xCart[0] + xCart[1]*xCart[1] + xCart[2]*xCart[2]) < domain_size*0.3) {\n",
    "          REAL uu_exact,vv_exact; exact_solution_single_point(&griddata.params,\n",
    "                                                              griddata.xx[0][i0],griddata.xx[1][i1],griddata.xx[2][i2],\n",
    "                                                              &uu_exact,&vv_exact);\n",
    "          double num   = (double)griddata.gridfuncs.y_n_gfs[IDX4S(UUGF,i0,i1,i2)];\n",
    "          double exact = (double)uu_exact;\n",
    "          integral += (num - exact)*(num - exact);\n",
    "          numpts   += 1.0;\n",
    "        }\n",
    "      }\n",
    "      // Compute and output the log of the L2 norm.\n",
    "      REAL log_L2_Norm = log10(1e-16 + sqrt(integral/numpts));  // 1e-16 + ... avoids log10(0)\n",
    "      printf(\"%e %e\\n\",(double)griddata.params.time, log_L2_Norm);\n",
    "    }\n",
    "\n",
    "    // Step 2: Evolve scalar wave initial data forward in time using Method of Lines with RK4 algorithm,\n",
    "    //         applying quadratic extrapolation outer boundary conditions.\n",
    "    // Step 2.b: Step forward one timestep (t -> t+dt) in time using\n",
    "    //           chosen RK-like MoL timestepping algorithm\n",
    "    MoL_step_forward_in_time(&griddata);\n",
    "\n",
    "  } // End main loop to progress forward in time.\n",
    "\n",
    "  // Step 3: Free all allocated memory\n",
    "\"\"\"\n",
    "    if enable_rfm_precompute:\n",
    "        body += \"  rfm_precompute_rfmstruct_freemem(&griddata.params, &griddata.rfmstruct);\\n\"\n",
    "    body += r\"\"\"\n",
    "  free(griddata.bcstruct.inner_bc_array);\n",
    "  for(int ng=0;ng<NGHOSTS*3;ng++) free(griddata.bcstruct.pure_outer_bc_array[ng]);\n",
    "  MoL_free_memory_y_n_gfs(&griddata.params, &griddata.gridfuncs);\n",
    "  MoL_free_memory_non_y_n_gfs(&griddata.params, &griddata.gridfuncs);\n",
    "  for(int i=0;i<3;i++) free(griddata.xx[i]);\n",
    "  return 0;\n",
    "\"\"\"\n",
    "    # As rfmstruct stores functions of xx, when rfm_precompute is disabled,\n",
    "    #   we always pass xx to a function instead of &rfmstruct.\n",
    "    if not enable_rfm_precompute:\n",
    "        body = body.replace(\"&rfmstruct\", \"xx\")\n",
    "\n",
    "    add_to_Cfunction_dict(\n",
    "        includes=includes,\n",
    "        desc=desc,\n",
    "        c_type=c_type, name=name, params=params,\n",
    "        body=body,\n",
    "        rel_path_to_Cparams=os.path.join(\".\"), enableCparameters=False)"
   ]
  },
  {
   "cell_type": "markdown",
   "metadata": {},
   "source": [
    "Next, register all remaining C functions in `outC_function_dict`, and output `finite_difference_functions.h`. Also construct `NRPy_basic_defines.h`."
   ]
  },
  {
   "cell_type": "code",
   "execution_count": 11,
   "metadata": {
    "execution": {
     "iopub.execute_input": "2021-09-28T19:19:18.558421Z",
     "iopub.status.busy": "2021-09-28T19:19:18.532882Z",
     "iopub.status.idle": "2021-09-28T19:19:18.631626Z",
     "shell.execute_reply": "2021-09-28T19:19:18.631141Z"
    }
   },
   "outputs": [],
   "source": [
    "# Register all functions needed for scalar wave:\n",
    "add_to_Cfunction_dict_exact_solution_single_point()\n",
    "add_to_Cfunction_dict_exact_solution_all_points()\n",
    "add_to_Cfunction_dict_rhs_eval()\n",
    "add_to_Cfunction_dict_main__ScalarWaveCurvilinear_Playground()"
   ]
  },
  {
   "cell_type": "code",
   "execution_count": 12,
   "metadata": {
    "execution": {
     "iopub.execute_input": "2021-09-28T19:19:18.558421Z",
     "iopub.status.busy": "2021-09-28T19:19:18.532882Z",
     "iopub.status.idle": "2021-09-28T19:19:18.631626Z",
     "shell.execute_reply": "2021-09-28T19:19:18.631141Z"
    }
   },
   "outputs": [],
   "source": [
    "import outputC as outC\n",
    "outC.outputC_register_C_functions_and_NRPy_basic_defines()  # #define M_PI, etc.\n",
    "# Declare paramstruct, register set_Cparameters_to_default(),\n",
    "#   and output declare_Cparameters_struct.h and set_Cparameters[].h:\n",
    "outC.NRPy_param_funcs_register_C_functions_and_NRPy_basic_defines(os.path.join(Ccodesrootdir))\n",
    "par.register_NRPy_basic_defines()  # add `paramstruct params` to griddata struct.\n",
    "\n",
    "gri.register_C_functions_and_NRPy_basic_defines()  # #define IDX3S(), etc.\n",
    "fin.register_C_functions_and_NRPy_basic_defines(NGHOSTS_account_for_onezone_upwind=False,\n",
    "                                                enable_SIMD=enable_SIMD)  # #define NGHOSTS, and UPWIND() macro if SIMD disabled\n",
    "\n",
    "# Output functions for computing all finite-difference stencils.\n",
    "#   Must be called after defining all functions depending on FD stencils.\n",
    "if enable_FD_functions:\n",
    "    fin.output_finite_difference_functions_h(path=Ccodesrootdir)\n",
    "\n",
    "# Call this last: Set up NRPy_basic_defines.h and NRPy_function_prototypes.h.\n",
    "outC.construct_NRPy_basic_defines_h(Ccodesrootdir, enable_SIMD=enable_SIMD)\n",
    "outC.construct_NRPy_function_prototypes_h(Ccodesrootdir)"
   ]
  },
  {
   "cell_type": "markdown",
   "metadata": {},
   "source": [
    "<a id='compileexec'></a>\n",
    "\n",
    "# Step 3: Compile generated C codes & solve the scalar wave equation \\[Back to [top](#toc)\\]\n",
    "$$\\label{compileexec}$$\n",
    "\n",
    "To aid in the cross-platform-compatible (with Windows, MacOS, & Linux) compilation and execution, we make use of `cmdline_helper` [(**Tutorial**)](Tutorial-cmdline_helper.ipynb)."
   ]
  },
  {
   "cell_type": "code",
   "execution_count": 13,
   "metadata": {
    "execution": {
     "iopub.execute_input": "2021-09-28T19:19:18.635384Z",
     "iopub.status.busy": "2021-09-28T19:19:18.634720Z",
     "iopub.status.idle": "2021-09-28T19:19:20.300605Z",
     "shell.execute_reply": "2021-09-28T19:19:20.300104Z"
    }
   },
   "outputs": [
    {
     "name": "stdout",
     "output_type": "stream",
     "text": [
      "(EXEC): Executing `make -j18`...\n",
      "(BENCH): Finished executing in 1.61 seconds.\n",
      "Finished compilation.\n",
      "(EXEC): Executing `taskset -c 1,3,5,7,9,11,13,15 ./ScalarWaveCurvilinear_Playground 16  2 4`...\n",
      "(BENCH): Finished executing in 0.20 seconds.\n",
      "(EXEC): Executing `taskset -c 1,3,5,7,9,11,13,15 ./ScalarWaveCurvilinear_Playground 24  2 4`...\n",
      "(BENCH): Finished executing in 0.20 seconds.\n"
     ]
    }
   ],
   "source": [
    "import cmdline_helper as cmd\n",
    "cmd.new_C_compile(Ccodesrootdir, \"ScalarWaveCurvilinear_Playground\",\n",
    "                  uses_free_parameters_h=True, compiler_opt_option=\"fast\") # fastdebug or debug also supported\n",
    "os.chdir(Ccodesrootdir)\n",
    "if \"Spherical\" in CoordSystem:\n",
    "    cmd.Execute(\"ScalarWaveCurvilinear_Playground\", \"16  2 4\", os.path.join(\"output\", \"out-lowresolution.txt\"))\n",
    "    cmd.Execute(\"ScalarWaveCurvilinear_Playground\", \"24  2 4\", os.path.join(\"output\", \"out-medresolution.txt\"))\n",
    "elif \"Cartesian\" in CoordSystem:\n",
    "    cmd.Execute(\"ScalarWaveCurvilinear_Playground\", \"16 16 16\", os.path.join(\"output\", \"out-lowresolution.txt\"))\n",
    "    cmd.Execute(\"ScalarWaveCurvilinear_Playground\", \"24 24 24\", os.path.join(\"output\", \"out-medresolution.txt\"))\n",
    "elif \"Cylindrical\" in CoordSystem:\n",
    "    cmd.Execute(\"ScalarWaveCurvilinear_Playground\", \"16 4 16\", os.path.join(\"output\", \"out-lowresolution.txt\"))\n",
    "    cmd.Execute(\"ScalarWaveCurvilinear_Playground\", \"24 4 24\", os.path.join(\"output\", \"out-medresolution.txt\"))\n",
    "elif \"SymTP\" in CoordSystem:\n",
    "    cmd.Execute(\"ScalarWaveCurvilinear_Playground\", \"16 16 2\", os.path.join(\"output\", \"out-lowresolution.txt\"))\n",
    "    cmd.Execute(\"ScalarWaveCurvilinear_Playground\", \"24 24 2\", os.path.join(\"output\", \"out-medresolution.txt\"))\n",
    "else:\n",
    "    print(\"Who ordered that? CoordSystem == \" + CoordSystem + \" not supported!\")\n",
    "    sys.exit(1)\n",
    "\n",
    "# Return to root directory\n",
    "os.chdir(os.path.join(\"..\"))"
   ]
  },
  {
   "cell_type": "markdown",
   "metadata": {},
   "source": [
    "<a id='convergence'></a>\n",
    "\n",
    "# Step 4: Code validation: Plot the numerical error, and confirm that it converges to zero at expected rate with increasing numerical resolution (sampling) \\[Back to [top](#toc)\\]\n",
    "$$\\label{convergence}$$\n",
    "The numerical solution $u_{\\rm num}(x0,x1,x2,t)$ should converge to the exact solution $u_{\\rm exact}(x0,x1,x2,t)$ at fourth order, which means that\n",
    "$$\n",
    "u_{\\rm num}(x0,x1,x2,t) = u_{\\rm exact}(x0,x1,x2,t) + \\mathcal{O}\\left((\\Delta x0)^4\\right)+ \\mathcal{O}\\left((\\Delta x1)^4\\right)+ \\mathcal{O}\\left((\\Delta x2)^4\\right)+ \\mathcal{O}\\left((\\Delta t)^4\\right).\n",
    "$$\n",
    "\n",
    "Thus the relative error $E_{\\rm rel}$ should satisfy:\n",
    "$$\n",
    "\\left|\\frac{u_{\\rm num}(x0,x1,x2,t) - u_{\\rm exact}(x0,x1,x2,t)}{u_{\\rm exact}(x0,x1,x2,t)}\\right| + \\mathcal{O}\\left((\\Delta x0)^4\\right)+ \\mathcal{O}\\left((\\Delta x1)^4\\right)+ \\mathcal{O}\\left((\\Delta x2)^4\\right)+ \\mathcal{O}\\left((\\Delta t)^4\\right).\n",
    "$$\n",
    "\n",
    "We confirm this convergence behavior by first solving the scalar wave equation at two resolutions: $16\\times 8\\times 16$ (or $16^3$ if `reference_metric::CoordSystem` is set to `Cartesian`), and $24\\times 12\\times 24$ (or $24^3$ if `reference_metric::CoordSystem` is set to `Cartesian`) and evaluating the maximum logarithmic relative error $\\log_{10} E_{\\rm rel,max}$ between numerical and exact solutions within a region $R < 0.1 {\\rm RMAX}$ at all iterations. \n",
    "\n",
    "Since we increase the resolution uniformly over all four coordinates $(x0,x1,x2,t)$, $E_{\\rm rel}$ should drop uniformly as $(\\Delta x0)^4$:\n",
    "$$\n",
    "E_{\\rm rel} \\propto (\\Delta x0)^4.\n",
    "$$\n",
    "\n",
    "So at the two resolutions, we should find that\n",
    "$$\n",
    "\\frac{E_{\\rm rel}(16\\times 8\\times 16)}{E_{\\rm rel}(24\\times 12\\times 24)} = \\frac{E_{\\rm rel}(16^3)}{E_{\\rm rel}(24^3)} \\approx \\left(\\frac{(\\Delta x0)_{16}}{(\\Delta x0)_{24}}\\right)^{4} = \\left(\\frac{24}{16}\\right)^4 \\approx 5.\n",
    "$$\n",
    "\n",
    "Since we're measuring logarithmic relative error, this should be\n",
    "$$\n",
    "\\log_{10}\\left(\\frac{E_{\\rm rel}(16\\times 8\\times 16)}{E_{\\rm rel}(24\\times 12\\times 24)}\\right) = \\log_{10}\\left(\\frac{E_{\\rm rel}(16^3)}{E_{\\rm rel}(24^3)}\\right) \\approx \\log_{10}(5).\n",
    "$$"
   ]
  },
  {
   "cell_type": "code",
   "execution_count": 14,
   "metadata": {
    "execution": {
     "iopub.execute_input": "2021-09-28T19:19:20.358956Z",
     "iopub.status.busy": "2021-09-28T19:19:20.358248Z",
     "iopub.status.idle": "2021-09-28T19:19:20.721967Z",
     "shell.execute_reply": "2021-09-28T19:19:20.721719Z"
    },
    "scrolled": true
   },
   "outputs": [
    {
     "data": {
      "image/png": "[encoded data removed]",
      "text/plain": [
       "<Figure size 640x480 with 1 Axes>"
      ]
     },
     "metadata": {},
     "output_type": "display_data"
    }
   ],
   "source": [
    "%matplotlib inline\n",
    "import matplotlib.pyplot as plt\n",
    "import mpmath as mp\n",
    "import csv\n",
    "\n",
    "def file_reader(filename):\n",
    "    with open(filename) as file:\n",
    "        reader = csv.reader(file, delimiter=\" \")\n",
    "        data  = list(zip(*reader))\n",
    "        # data is a tuple of strings. Tuples are immutable, and we need to perform math on\n",
    "        #   the data, so here we convert tuple to lists of floats:\n",
    "        data0 = []\n",
    "        data1 = []\n",
    "        for i in range(len(data[0])):\n",
    "            data0.append(float(data[0][i]))\n",
    "            data1.append(float(data[1][i]))\n",
    "        return data0,data1\n",
    "\n",
    "first_col16,second_col16 = file_reader(os.path.join(outdir, 'out-lowresolution.txt'))\n",
    "first_col24,second_col24 = file_reader(os.path.join(outdir, 'out-medresolution.txt'))\n",
    "\n",
    "second_col16_rescaled4o = []\n",
    "second_col16_rescaled5o = []\n",
    "for i in range(len(second_col16)):\n",
    "    # data16 = data24*(16/24)**4\n",
    "    # -> log10(data24) = log10(data24) + 4*log10(16/24)\n",
    "    second_col16_rescaled4o.append(second_col16[i] + 4*mp.log10(16./24.))\n",
    "    second_col16_rescaled5o.append(second_col16[i] + 5*mp.log10(16./24.))\n",
    "\n",
    "# https://matplotlib.org/gallery/text_labels_and_annotations/legend.html#sphx-glr-gallery-text-labels-and-annotations-legend-py\n",
    "fig, ax = plt.subplots()\n",
    "\n",
    "plt.title(\"Demonstrating 4th-order Convergence: \"+par.parval_from_str(\"reference_metric::CoordSystem\")+\" Coordinates\")\n",
    "plt.xlabel(\"time\")\n",
    "plt.ylabel(\"log10(Max relative error)\")\n",
    "\n",
    "ax.plot(first_col24, second_col24, 'k-', label='logErel(N0=24)')\n",
    "ax.plot(first_col16, second_col16_rescaled4o, 'k--', label='logErel(N0=16) + log((16/24)^4)')\n",
    "ax.set_ylim([-8.05, -1.7]) # Manually set the y-axis range case, since the log10\n",
    "                          # relative error at t=0 could be -inf or about -16,\n",
    "                          # resulting in very different-looking plots\n",
    "                          # despite the data being the same to roundoff.\n",
    "if par.parval_from_str(\"reference_metric::CoordSystem\") == \"Cartesian\":\n",
    "    ax.set_ylim([-2.68, -1.62])\n",
    "if par.parval_from_str(\"reference_metric::CoordSystem\") == \"Cylindrical\":\n",
    "    ax.plot(first_col16, second_col16_rescaled5o, 'k.',  label='(Assuming 5th-order convergence)')\n",
    "legend = ax.legend(loc='lower right', shadow=True, fontsize='large')\n",
    "legend.get_frame().set_facecolor('C1')\n",
    "plt.show()"
   ]
  },
  {
   "cell_type": "markdown",
   "metadata": {},
   "source": [
    "<a id='latex_pdf_output'></a>\n",
    "\n",
    "# Step 5: Output this notebook to $\\LaTeX$-formatted PDF file \\[Back to [top](#toc)\\]\n",
    "$$\\label{latex_pdf_output}$$\n",
    "\n",
    "The following code cell converts this Jupyter notebook into a proper, clickable $\\LaTeX$-formatted PDF file. After the cell is successfully run, the generated PDF may be found in the root NRPy+ tutorial directory, with filename\n",
    "[Tutorial-Start_to_Finish-ScalarWaveCurvilinear.pdf](Tutorial-Start_to_Finish-ScalarWaveCurvilinear.pdf) (Note that clicking on this link may not work; you may need to open the PDF file through another means.)"
   ]
  },
  {
   "cell_type": "code",
   "execution_count": 15,
   "metadata": {
    "execution": {
     "iopub.execute_input": "2021-09-28T19:19:20.724049Z",
     "iopub.status.busy": "2021-09-28T19:19:20.723767Z",
     "iopub.status.idle": "2021-09-28T19:19:23.365936Z",
     "shell.execute_reply": "2021-09-28T19:19:23.365481Z"
    }
   },
   "outputs": [
    {
     "name": "stdout",
     "output_type": "stream",
     "text": [
      "Created Tutorial-Start_to_Finish-ScalarWaveCurvilinear.tex, and compiled\n",
      "    LaTeX file to PDF file Tutorial-Start_to_Finish-\n",
      "    ScalarWaveCurvilinear.pdf\n"
     ]
    }
   ],
   "source": [
    "import cmdline_helper as cmd    # NRPy+: Multi-platform Python command-line interface\n",
    "cmd.output_Jupyter_notebook_to_LaTeXed_PDF(\"Tutorial-Start_to_Finish-ScalarWaveCurvilinear\")"
   ]
  }
 ],
 "metadata": {
  "kernelspec": {
   "display_name": "Python 3 (ipykernel)",
   "language": "python",
   "name": "python3"
  },
  "language_info": {
   "codemirror_mode": {
    "name": "ipython",
    "version": 3
   },
   "file_extension": ".py",
   "mimetype": "text/x-python",
   "name": "python",
   "nbconvert_exporter": "python",
   "pygments_lexer": "ipython3",
   "version": "3.11.1"
  }
 },
 "nbformat": 4,
 "nbformat_minor": 4
}
