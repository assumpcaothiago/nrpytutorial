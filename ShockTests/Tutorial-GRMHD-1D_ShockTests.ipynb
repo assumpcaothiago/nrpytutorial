{
 "cells": [
  {
   "cell_type": "markdown",
   "metadata": {},
   "source": [
    "<script async src=\"https://www.googletagmanager.com/gtag/js?id=UA-59152712-8\"></script>\n",
    "<script>\n",
    "  window.dataLayer = window.dataLayer || [];\n",
    "  function gtag(){dataLayer.push(arguments);}\n",
    "  gtag('js', new Date());\n",
    "\n",
    "  gtag('config', 'UA-59152712-8');\n",
    "</script>\n",
    "\n",
    "# 1D Balsara Shock Tests\n",
    "[comment]: <> (Author: TODO)\n",
    "## This notebook develops and implements 1D Balsara shock tests for magnetohydrodynamic codes, providing initial data options for GRMHD evolutions. It also introduces mildly relativistic hydrodynamic shocks and relativistic hydrodynamic blast wave tests, with validation conducted within the NRPy+ framework.\n",
    "\n",
    "**Notebook Status:** <font color='green'><b> Validated </b></font>\n",
    "\n",
    "**Validation Notes:** This tutorial notebook has been confirmed to be self-consistent with its corresponding NRPy+ module, as documented [below](#code_validation). \n",
    "\n",
    "### NRPy+ Source Code for this module: [ShockTests_1D.py](../../edit/in_progress-ShockTests/ShockTests_1D.py)\n",
    "\n",
    "## Introduction:\n",
    "\n",
    "Define shocks.\n",
    "\n",
    "Shocks can occur commonly in astrophysical contexts. Among other methods, shocks may be modeled using codes that solve the equations of magnetohydrodynamics. Here we will develop 1-3D shock tests for MHD codes. Within NRPy+, we will specifically use these tests to validate the NRPy+ version of IllinoisGRMHD. We will borrow the same tests used by the Spritz code for its validation, described [here](https://iopscience.iop.org/article/10.1088/1361-6382/ab8be8).\n",
    "\n",
    "In this notebook, we document and implement 1D shock tests commonly used within the literature, i.e. the Balsara shock tube tests, found in Table 1 [here](https://iopscience.iop.org/article/10.1086/318941). These tests are performed in flat spacetime.\n"
   ]
  },
  {
   "cell_type": "markdown",
   "metadata": {},
   "source": [
    "<a id='toc'></a>\n",
    "\n",
    "# Table of Contents:\n",
    "$$\\label{toc}$$\n",
    "\n",
    "This notebook is organized as follows\n",
    "\n",
    "1. [Step 1](#initializenrpy): Import core NRPy+ modules and set NRPy+ parameters\n",
    "1. [Step 2](#shock_tests): Balsara 1D Shock Tests\n",
    "    1. [Step 2.a](#balsara1): Balsara 1\n",
    "    1. [Step 2.b](#balsara2): Balsara 2\n",
    "    1. [Step 2.c](#balsara3): Balsara 3\n",
    "    1. [Step 2.d](#balsara4): Balsara 4\n",
    "    1. [Step 2.e](#balsara5): Balsara 5\n",
    "1. [Step 3](#BtoA): Converting to Vector Potential $A_i$\n",
    "1. [Step 4](#mrhs): Mildly Relativistic Hydrodynamic Shock\n",
    "1. [Step 5](#rhbw): Relativistic Hydrodynamic Blast Wave\n",
    "1. [Step 6](#code_validation): Code Validation against `ShockTests_1D` NRPy+ Module\n",
    "1. [Step 7](#latex_pdf_output): Output this notebook to $\\LaTeX$-formatted PDF file"
   ]
  },
  {
   "cell_type": "markdown",
   "metadata": {},
   "source": [
    "<a id='initializenrpy'></a>\n",
    "\n",
    "# Step 1: Import core NRPy+ modules and set NRPy+ parameters \\[Back to [top](#toc)\\]\n",
    "$$\\label{initializenrpy}$$\n",
    "\n",
    "Here, we will import the NRPy+ core modules, set the reference metric to Cartesian, and set commonly used NRPy+ parameters. We will also set up a parameter to determine what initial data is set up, although it won't do much yet."
   ]
  },
  {
   "cell_type": "code",
   "execution_count": 1,
   "metadata": {},
   "outputs": [],
   "source": [
    "# Step 0: Add NRPy's directory to the path\n",
    "# https://stackoverflow.com/questions/16780014/import-file-from-parent-directory\n",
    "import os,sys\n",
    "nrpy_dir_path = os.path.join(\"..\")\n",
    "if nrpy_dir_path not in sys.path:\n",
    "    sys.path.append(nrpy_dir_path)\n",
    "\n",
    "# Step 0.a: Import the NRPy+ core modules and set the reference metric to Cartesian\n",
    "import sympy as sp               # SymPy: The Python computer algebra package upon which NRPy+ depends\n",
    "import NRPy_param_funcs as par   # NRPy+: Parameter interface\n",
    "import indexedexp as ixp         # NRPy+: Symbolic indexed expression (e.g., tensors, vectors, etc.) support\n",
    "import reference_metric as rfm   # NRPy+: Reference metric support\n",
    "\n",
    "par.set_parval_from_str(\"grid::DIM\", 3)\n",
    "DIM = par.parval_from_str(\"grid::DIM\")\n",
    "\n",
    "par.set_parval_from_str(\"reference_metric::CoordSystem\",\"Cartesian\")\n",
    "rfm.reference_metric()"
   ]
  },
  {
   "cell_type": "markdown",
   "metadata": {},
   "source": [
    "##### <a id='shock_tests'></a>\n",
    "\n",
    "# Step 2: Balsara 1D Shock Tests \\[Back to [top](#toc)\\]\n",
    "$$\\label{shock_tests}$$\n",
    "\n",
    "Each test defines the GRMHD primitive variables  as piece-wise functions, with left and right sides separated by a discontinuity or shock. These primitive variables are the fluid density $\\rho$, pressure $p$, velocity $v^i$ and magnetic field $B^i$. For ease in transcriptions we follow [Balasra (2001)](https://iopscience.iop.org/article/10.1086/318941) and define these quantities in Cartesian coordinates. As stated by [Balasra (2001)](https://iopscience.iop.org/article/10.1086/318941), \"the initial discontinuity was placed at the center of the computational domain\", so we choose to place them at $x=0$.\n",
    "\n",
    "To aid in speedy calculations, instead of using `if` statements to define these piece-wise functions, we use the `Min_Max_and_Piecewise_Expressions` NRPy+ module, which replaces `if` statements with absolute value calls. In C these are done using the `fabs` function.\n",
    "\n",
    "How do we use `Min_Max_and_Piecewise_Expressions`???\n",
    "\n",
    "\n",
    "##### <a id='balsara1'></a>\n",
    "\n",
    "## Step 2.a: Balsara 1 \\[Back to [top](#toc)\\]\n",
    "$$\\label{balsara1}$$\n",
    "\n",
    "\n",
    "\n",
    "\\begin{align}\n",
    "\\rho &= \\left \\{ \\begin{array}{lll} 1.0 & \\mbox{if} & x < 0 \\\\\n",
    "0.125 & \\mbox{if} & x \\geq 0 \\end{array} \\right. \\\\\n",
    "p &= \\left \\{ \\begin{array}{lll} 1.0 & \\mbox{if} & x < 0 \\\\\n",
    "0.1 & \\mbox{if} & x \\geq 0 \\end{array} \\right. \\\\\n",
    "v^x &= v^y = v^z = 0.0, \\\\\n",
    "B^x &= 0.5, \\\\\n",
    "B^y &= \\left \\{ \\begin{array}{lll} 1.0 & \\mbox{if} & x < 0 \\\\\n",
    "-1.0 & \\mbox{if} & x \\geq 0 \\end{array} \\right. \\\\\n",
    "B^z &= 0.0\n",
    "\\end{align}"
   ]
  },
  {
   "cell_type": "code",
   "execution_count": 2,
   "metadata": {},
   "outputs": [],
   "source": [
    "import Min_Max_and_Piecewise_Expressions as noif\n",
    "from sympy import Rational as rl\n",
    "\n",
    "def balsara1(x, bound = 0.0):\n",
    "    vU = ixp.zerorank1()\n",
    "    BU = ixp.zerorank1()\n",
    "\n",
    "    rho_left = rl(1.0)\n",
    "    rho_right = rl(1,8)\n",
    "    rho = noif.coord_less_bound(x, bound)*rho_left \\\n",
    "        + noif.coord_geq_bound(x,bound)*rho_right\n",
    "\n",
    "    press_left = rl(1.0)\n",
    "    press_right = rl(1,10)\n",
    "    press = noif.coord_less_bound(x, bound)*press_left \\\n",
    "          + noif.coord_geq_bound(x,bound)*press_right\n",
    "\n",
    "    BU[0] = rl(1,2)\n",
    "\n",
    "    By_left = rl(1.0)\n",
    "    By_right = rl(-1.0)\n",
    "    BU[1] = noif.coord_less_bound(x, bound)*By_left \\\n",
    "          + noif.coord_geq_bound(x,bound)*By_right\n",
    "\n",
    "    return rho, press, vU, BU"
   ]
  },
  {
   "cell_type": "markdown",
   "metadata": {},
   "source": [
    "##### <a id='balsara2'></a>\n",
    "\n",
    "## Step 2.b: Balsara 2 \\[Back to [top](#toc)\\]\n",
    "$$\\label{balsara2}$$\n",
    "\n",
    "\\begin{align}\n",
    "\\rho &= 1.0 \\\\\n",
    "p &= \\left \\{ \\begin{array}{lll} 30.0 & \\mbox{if} & x < 0 \\\\\n",
    "1.0 & \\mbox{if} & x \\geq 0 \\end{array} \\right. \\\\\n",
    "v^x &= v^y = v^z = 0.0, \\\\\n",
    "B^x &= 5.0, \\\\\n",
    "B^y &= B^z = \\left \\{ \\begin{array}{lll} 6.0 & \\mbox{if} & x < 0 \\\\\n",
    "0.7 & \\mbox{if} & x \\geq 0 \\end{array} \\right. \\\\\n",
    "\\end{align}"
   ]
  },
  {
   "cell_type": "code",
   "execution_count": 3,
   "metadata": {},
   "outputs": [],
   "source": [
    "def balsara2(x, bound = 0.0):\n",
    "    vU = ixp.zerorank1()\n",
    "    BU = ixp.zerorank1()\n",
    "\n",
    "    rho = rl(1.0)\n",
    "\n",
    "    press_left = rl(30.0)\n",
    "    press_right = rl(1.0)\n",
    "    press = noif.coord_less_bound(x, bound)*press_left \\\n",
    "          + noif.coord_geq_bound(x,bound)*press_right\n",
    "\n",
    "    BU[0] = rl(1,2)\n",
    "\n",
    "    By_left = rl(6.0)\n",
    "    By_right = rl(7,10)\n",
    "    BU[1] = BU[2] = noif.coord_less_bound(x, bound)*By_left \\\n",
    "                  + noif.coord_geq_bound(x,bound)*By_right\n",
    "\n",
    "    return rho, press, vU, BU"
   ]
  },
  {
   "cell_type": "markdown",
   "metadata": {},
   "source": [
    "##### <a id='balsara3'></a>\n",
    "\n",
    "## Step 2.c: Balsara 3 \\[Back to [top](#toc)\\]\n",
    "$$\\label{balsara3}$$\n",
    "\n",
    "\\begin{align}\n",
    "\\rho &= 1.0 \\\\\n",
    "p &= \\left \\{ \\begin{array}{lll} 1000.0 & \\mbox{if} & x < 0 \\\\\n",
    "0.1 & \\mbox{if} & x \\geq 0 \\end{array} \\right. \\\\\n",
    "v^x &= v^y = v^z = 0.0, \\\\\n",
    "B^x &= 10.0, \\\\\n",
    "B^y &= B^z = \\left \\{ \\begin{array}{lll} 7.0 & \\mbox{if} & x < 0 \\\\\n",
    "0.7 & \\mbox{if} & x \\geq 0 \\end{array} \\right. \\\\\n",
    "\\end{align}"
   ]
  },
  {
   "cell_type": "code",
   "execution_count": 4,
   "metadata": {},
   "outputs": [],
   "source": [
    "def balsara3(x, bound = 0.0):\n",
    "    vU = ixp.zerorank1()\n",
    "    BU = ixp.zerorank1()\n",
    "\n",
    "    rho = rl(1.0)\n",
    "\n",
    "    press_left = rl(1000.0)\n",
    "    press_right = rl(1,10)\n",
    "    press = noif.coord_less_bound(x, bound)*press_left \\\n",
    "          + noif.coord_geq_bound(x,bound)*press_right\n",
    "\n",
    "    BU[0] = rl(10.)\n",
    "\n",
    "    By_left = rl(7.0)\n",
    "    By_right = rl(7,10)\n",
    "    BU[1] = BU[2] = noif.coord_less_bound(x, bound)*By_left \\\n",
    "                  + noif.coord_geq_bound(x,bound)*By_right\n",
    "\n",
    "    return rho, press, vU, BU"
   ]
  },
  {
   "cell_type": "markdown",
   "metadata": {},
   "source": [
    "##### <a id='balsara4'></a>\n",
    "\n",
    "## Step 2.d: Balsara 4 \\[Back to [top](#toc)\\]\n",
    "$$\\label{balsara4}$$\n",
    "\n",
    "\\begin{align}\n",
    "\\rho &= 1.0 \\\\\n",
    "p &= 0.1 \\\\\n",
    "v^x &= \\left \\{ \\begin{array}{lll} 0.999 & \\mbox{if} & x < 0 \\\\\n",
    "-0.999 & \\mbox{if} & x \\geq 0 \\end{array} \\right. \\\\\n",
    "v^y &= v^z = 0.0, \\\\\n",
    "B^x &= 10.0, \\\\\n",
    "B^y &= B^z = \\left \\{ \\begin{array}{lll} 7.0 & \\mbox{if} & x < 0 \\\\\n",
    "-7.0 & \\mbox{if} & x \\geq 0 \\end{array} \\right. \\\\\n",
    "\\end{align}"
   ]
  },
  {
   "cell_type": "code",
   "execution_count": 5,
   "metadata": {},
   "outputs": [],
   "source": [
    "def balsara4(x, bound = 0.0):\n",
    "    vU = ixp.zerorank1()\n",
    "    BU = ixp.zerorank1()\n",
    "\n",
    "    rho = rl(1.0)\n",
    "\n",
    "    press = rl(1,10)\n",
    "\n",
    "    vx_left = rl(999,1000)\n",
    "    vx_right = rl(-999,1000)\n",
    "    vU[0] = noif.coord_less_bound(x, bound)*vx_left \\\n",
    "          + noif.coord_geq_bound(x,bound)*vx_right\n",
    "\n",
    "    BU[0] = rl(10.)\n",
    "\n",
    "    By_left = rl(7.0)\n",
    "    By_right = rl(-7.0)\n",
    "    BU[1] = BU[2] = noif.coord_less_bound(x, bound)*By_left \\\n",
    "                  + noif.coord_geq_bound(x,bound)*By_right\n",
    "\n",
    "    return rho, press, vU, BU"
   ]
  },
  {
   "cell_type": "markdown",
   "metadata": {},
   "source": [
    "##### <a id='balsara5'></a>\n",
    "\n",
    "## Step 2.e: Balsara 5 \\[Back to [top](#toc)\\]\n",
    "$$\\label{balsara5}$$\n",
    "\n",
    "\\begin{align}\n",
    "\\rho &= \\left \\{ \\begin{array}{lll} 1.08 & \\mbox{if} & x < 0 \\\\\n",
    "1.0 & \\mbox{if} & x \\geq 0 \\end{array} \\right. \\\\\n",
    "p &= \\left \\{ \\begin{array}{lll} 0.95 & \\mbox{if} & x < 0 \\\\\n",
    "1.0 & \\mbox{if} & x \\geq 0 \\end{array} \\right. \\\\\n",
    "v^x &= \\left \\{ \\begin{array}{lll} 0.4 & \\mbox{if} & x < 0 \\\\\n",
    "-0.45 & \\mbox{if} & x \\geq 0 \\end{array} \\right. \\\\\n",
    "v^y &= \\left \\{ \\begin{array}{lll} 0.3 & \\mbox{if} & x < 0 \\\\\n",
    "-0.2 & \\mbox{if} & x \\geq 0 \\end{array} \\right. \\\\\n",
    "v^z &= 0.2, \\\\\n",
    "B^x &= 2.0, \\\\\n",
    "B^y &= \\left \\{ \\begin{array}{lll} 0.3 & \\mbox{if} & x < 0 \\\\\n",
    "-0.7 & \\mbox{if} & x \\geq 0 \\end{array} \\right. \\\\\n",
    "B^z &= \\left \\{ \\begin{array}{lll} 0.3 & \\mbox{if} & x < 0 \\\\\n",
    "0.5 & \\mbox{if} & x \\geq 0 \\end{array} \\right. \\\\\n",
    "\\end{align}"
   ]
  },
  {
   "cell_type": "code",
   "execution_count": 6,
   "metadata": {},
   "outputs": [],
   "source": [
    "def balsara5(x, bound = 0.0):\n",
    "    vU = ixp.zerorank1()\n",
    "    BU = ixp.zerorank1()\n",
    "\n",
    "    rho_left = rl(108,100)\n",
    "    rho_right = rl(1.0)\n",
    "    rho = noif.coord_less_bound(x, bound)*rho_left \\\n",
    "        + noif.coord_geq_bound(x,bound)*rho_right\n",
    "\n",
    "    press_left = rl(95, 100)\n",
    "    press_right = rl(1.0)\n",
    "    press = noif.coord_less_bound(x, bound)*press_left \\\n",
    "          + noif.coord_geq_bound(x,bound)*press_right\n",
    "\n",
    "    vx_left = rl(4,10)\n",
    "    vx_right = rl(-45,100)\n",
    "    vU[0] = noif.coord_less_bound(x, bound)*vx_left \\\n",
    "          + noif.coord_geq_bound(x,bound)*vx_right\n",
    "\n",
    "    vy_left = rl(3,10)\n",
    "    vy_right = rl(-2,10)\n",
    "    vU[1] = noif.coord_less_bound(x, bound)*vy_left \\\n",
    "          + noif.coord_geq_bound(x,bound)*vy_right\n",
    "\n",
    "    vU[2] = rl(2,10)\n",
    "\n",
    "    BU[0] = rl(2.)\n",
    "\n",
    "    By_left = rl(3,10)\n",
    "    By_right = rl(-7,10)\n",
    "    BU[1] = noif.coord_less_bound(x, bound)*By_left \\\n",
    "          + noif.coord_geq_bound(x,bound)*By_right\n",
    "\n",
    "    Bz_left = rl(3,10)\n",
    "    Bz_right = rl(5,10)\n",
    "    BU[2] = noif.coord_less_bound(x, bound)*Bz_left \\\n",
    "          + noif.coord_geq_bound(x,bound)*Bz_right\n",
    "\n",
    "    return rho, press, vU, BU"
   ]
  },
  {
   "cell_type": "markdown",
   "metadata": {},
   "source": [
    "<a id='BtoA'></a>\n",
    "\n",
    "# Step 3: Converting to Vector Potential $A_i$\\[Back to [top](#toc)\\]\n",
    "$$\\label{BtoA}$$\n",
    "\n",
    "Some GRMHD codes elect to evolve the vector potential $A_i$ instead of the magnetic field $B^i$ directly, either to maintain the divergence-free nature of the magnetic fields across grid boundaries or throughout evolution. While we can convert from $A_i \\rightarrow B^i$ using\n",
    "\n",
    "$$\n",
    "B^i = \\epsilon^{ijk} \\partial_j A_k,\n",
    "$$\n",
    "\n",
    "where $\\epsilon^{ijk}$ is the Levi-Civita tensor, going from $B^i \\rightarrow A_i$ is non-trivial for generic magnetic fields. However, given that the fields here are piece-wise constant, for Cartesian coordinates and flat spacetime we can therefore write\n",
    "\n",
    "$$\n",
    "A_i = \\left( z B^y, x B^z, y B^x \\right).\n",
    "$$\n",
    "\n",
    "Here we create a function to deal with implementing the above."
   ]
  },
  {
   "cell_type": "code",
   "execution_count": 7,
   "metadata": {},
   "outputs": [],
   "source": [
    "def BtoA_piecewise_constant_Cart_Flat(x, y, z, BU):\n",
    "    AD = ixp.zerorank1()\n",
    "    AD[0] = z*BU[1]\n",
    "    AD[1] = x*BU[2]\n",
    "    AD[2] = y*BU[0]\n",
    "\n",
    "    return AD"
   ]
  },
  {
   "cell_type": "markdown",
   "metadata": {},
   "source": [
    "<a id='mrhs'></a>\n",
    "\n",
    "# Step 4: Mildly Relativistic Hydrodynamic Shock \\[Back to [top](#toc)\\]\n",
    "$$\\label{mrhs}$$\n",
    "\n",
    "Here we define initial data for pure hydrodynamics, i.e. $B^i = 0$. In this section, we construct test problem 1 from [Marti and Muller (2003)](https://link.springer.com/article/10.12942/lrr-2003-7), table 7. With $v^i = 0$ everywhere, we define the density and pressure profiles as\n",
    "\n",
    "\\begin{align}\n",
    "\\rho &= \\left \\{ \\begin{array}{lll} 10.0 & \\mbox{if} & x < 0.5 \\\\\n",
    "1.0 & \\mbox{if} & x \\geq 0.5 \\end{array} \\right. \\\\\n",
    "p &= \\left \\{ \\begin{array}{lll} 40.0/3.0 & \\mbox{if} & x < 0.5 \\\\\n",
    "0.0 & \\mbox{if} & x \\geq 0.5 \\end{array} \\right. \\\\\n",
    "\\end{align}"
   ]
  },
  {
   "cell_type": "code",
   "execution_count": 8,
   "metadata": {},
   "outputs": [],
   "source": [
    "def hydro1(x, bound = 0.5):\n",
    "    vU = ixp.zerorank1()\n",
    "    BU = ixp.zerorank1()\n",
    "\n",
    "    rho_left = rl(10.)\n",
    "    rho_right = rl(1.0)\n",
    "    rho = noif.coord_less_bound(x, bound)*rho_left \\\n",
    "        + noif.coord_geq_bound(x,bound)*rho_right\n",
    "\n",
    "    press_left = rl(40, 3)\n",
    "    press_right = rl(0.0)\n",
    "    press = noif.coord_less_bound(x, bound)*press_left \\\n",
    "          + noif.coord_geq_bound(x,bound)*press_right\n",
    "\n",
    "    return rho, press, vU, BU"
   ]
  },
  {
   "cell_type": "markdown",
   "metadata": {},
   "source": [
    "<a id='rhbw'></a>\n",
    "\n",
    "# Step 5: Relativistic Hydrodynamic Blast Wave \\[Back to [top](#toc)\\]\n",
    "$$\\label{rhbw}$$\n",
    "\n",
    "Similar to the previous section, here we construct test problem 2 from [Marti and Muller (2003)](https://link.springer.com/article/10.12942/lrr-2003-7), table 7. Again with $v^i = 0$ everywhere, we define the density and pressure profiles as\n",
    "\n",
    "\\begin{align}\n",
    "\\rho &= 1.0 \\\\\n",
    "p &= \\left \\{ \\begin{array}{lll} 1000.0 & \\mbox{if} & x < 0.5 \\\\\n",
    "0.01 & \\mbox{if} & x \\geq 0.5 \\end{array} \\right. \\\\\n",
    "\\end{align}"
   ]
  },
  {
   "cell_type": "code",
   "execution_count": 9,
   "metadata": {},
   "outputs": [],
   "source": [
    "def hydro2(x, bound = 0.5):\n",
    "    vU = ixp.zerorank1()\n",
    "    BU = ixp.zerorank1()\n",
    "\n",
    "    rho = rl(1.0)\n",
    "\n",
    "    press_left = rl(1000.0)\n",
    "    press_right = rl(1, 100)\n",
    "    press = noif.coord_less_bound(x, bound)*press_left \\\n",
    "          + noif.coord_geq_bound(x,bound)*press_right\n",
    "\n",
    "    return rho, press, vU, BU"
   ]
  },
  {
   "cell_type": "markdown",
   "metadata": {},
   "source": [
    "<a id='code_validation'></a>\n",
    "\n",
    "# Step 6: Code Validation against `ShockTests_1D` NRPy+ Module \\[Back to [top](#toc)\\]\n",
    "$$\\label{code_validation}$$\n",
    "\n",
    "Here, as a code validation check, we verify agreement in the SymPy expressions for the 1D shock tests we intend to use between\n",
    "1. this tutorial and \n",
    "2. the NRPy+ [`ShockTests_1D.py`](../../edit/in_progress-ShockTests/ShockTests_1D.py) module.\n"
   ]
  },
  {
   "cell_type": "code",
   "execution_count": 10,
   "metadata": {},
   "outputs": [],
   "source": [
    "# here we modify the check_zero function\n",
    "from UnitTesting.assert_equal import check_zero\n",
    "\n",
    "def assert_zero(exp):\n",
    "    assert check_zero(exp)==True\n",
    "\n",
    "def compare_results(functionA, functionB, x, bound=0.0):\n",
    "    rho_A, press_A, vU_A, BU_A = functionA(x, bound)\n",
    "    rho_B, press_B, vU_B, BU_B = functionB(x, bound)\n",
    "\n",
    "    assert_zero(rho_A - rho_B)\n",
    "    assert_zero(press_A - press_B)\n",
    "\n",
    "    for i in range(DIM):\n",
    "        assert_zero(vU_A[i] - vU_B[i])\n",
    "        assert_zero(BU_A[i] - BU_B[i])"
   ]
  },
  {
   "cell_type": "code",
   "execution_count": 11,
   "metadata": {},
   "outputs": [
    {
     "name": "stdout",
     "output_type": "stream",
     "text": [
      "All assertions have passed!\n"
     ]
    }
   ],
   "source": [
    "import ShockTests_1D as st_1d\n",
    "\n",
    "x = rfm.xx_to_Cart[0]\n",
    "y = rfm.xx_to_Cart[1]\n",
    "z = rfm.xx_to_Cart[2]\n",
    "\n",
    "compare_results(balsara1, st_1d.balsara1, x)\n",
    "compare_results(balsara2, st_1d.balsara2, z)\n",
    "compare_results(balsara3, st_1d.balsara3, y)\n",
    "compare_results(balsara4, st_1d.balsara4, z)\n",
    "compare_results(balsara5, st_1d.balsara5, y)\n",
    "compare_results(hydro1, st_1d.hydro1, z)\n",
    "compare_results(hydro2, st_1d.hydro2, x)\n",
    "\n",
    "\n",
    "_,_,_, BU = balsara5(x, bound=0.23)\n",
    "AD_A = BtoA_piecewise_constant_Cart_Flat(x,y,z, BU)\n",
    "AD_B = st_1d.BtoA_piecewise_constant_Cart_Flat(x,y,z, BU)\n",
    "\n",
    "for i in range(DIM):\n",
    "    assert_zero(AD_A[i] - AD_B[i])\n",
    "\n",
    "print('All assertions have passed!')"
   ]
  },
  {
   "cell_type": "code",
   "execution_count": 12,
   "metadata": {},
   "outputs": [
    {
     "name": "stdout",
     "output_type": "stream",
     "text": [
      "BtoA passes!\n"
     ]
    }
   ],
   "source": [
    "sqrtgammaDET = sp.sympify(1.0)\n",
    "LeviCivitaTensorUUU = ixp.LeviCivitaTensorUUU_dim3_rank3(sqrtgammaDET)\n",
    "\n",
    "_, _, _, BU_test = balsara5(y, bound=3.0)\n",
    "AD_test = BtoA_piecewise_constant_Cart_Flat(rfm.Cartx, rfm.Carty, rfm.Cartz, BU_test)\n",
    "\n",
    "BU_compare = ixp.zerorank1()\n",
    "for i in range(DIM):\n",
    "    for j in range(DIM):\n",
    "        for k in range(DIM):\n",
    "            BU_compare[i] += LeviCivitaTensorUUU[i][j][k]*sp.diff(AD_test[k], rfm.Cart[j])\n",
    "\n",
    "for w in range(DIM):\n",
    "    assert_zero(sp.simplify(BU_test[w] - BU_compare[w]))\n",
    "\n",
    "print('BtoA passes!')"
   ]
  },
  {
   "cell_type": "markdown",
   "metadata": {},
   "source": [
    "<a id='latex_pdf_output'></a>\n",
    "\n",
    "# Step 7: Output this notebook to $\\LaTeX$-formatted PDF file \\[Back to [top](#toc)\\]\n",
    "$$\\label{latex_pdf_output}$$\n",
    "\n",
    "The following code cell converts this Jupyter notebook into a proper, clickable $\\LaTeX$-formatted PDF file. After the cell is successfully run, the generated PDF may be found in the root NRPy+ tutorial directory, with filename\n",
    "[Tutorial-GRMHD-1D_ShockTests.pdf](Tutorial-GRMHD-1D_ShockTests.pdf) (Note that clicking on this link may not work; you may need to open the PDF file through another means.)"
   ]
  },
  {
   "cell_type": "code",
   "execution_count": 13,
   "metadata": {},
   "outputs": [
    {
     "name": "stdout",
     "output_type": "stream",
     "text": [
      "Created Tutorial-GRMHD-1D_ShockTests.tex, and compiled LaTeX file to PDF\n",
      "    file Tutorial-GRMHD-1D_ShockTests.pdf\n"
     ]
    }
   ],
   "source": [
    "import cmdline_helper as cmd    # NRPy+: Multi-platform Python command-line interface\n",
    "cmd.output_Jupyter_notebook_to_LaTeXed_PDF(\"Tutorial-GRMHD-1D_ShockTests\")"
   ]
  }
 ],
 "metadata": {
  "kernelspec": {
   "display_name": "Python 3 (ipykernel)",
   "language": "python",
   "name": "python3"
  },
  "language_info": {
   "codemirror_mode": {
    "name": "ipython",
    "version": 3
   },
   "file_extension": ".py",
   "mimetype": "text/x-python",
   "name": "python",
   "nbconvert_exporter": "python",
   "pygments_lexer": "ipython3",
   "version": "3.10.11"
  }
 },
 "nbformat": 4,
 "nbformat_minor": 4
}
